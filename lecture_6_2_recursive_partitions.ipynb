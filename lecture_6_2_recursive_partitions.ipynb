{
 "cells": [
  {
   "cell_type": "markdown",
   "metadata": {},
   "source": [
    "## Quickly computing $G^2$\n",
    "\n",
    "The $G^2$ statistic is used to measure the entropy of a tree, with a smaller number corresponding to a better tree.  As the formula for $G^2$ is cumbersome, We will make a function in `R` to speed up the computations. "
   ]
  },
  {
   "cell_type": "code",
   "execution_count": 44,
   "metadata": {},
   "outputs": [],
   "source": [
    "g2 <- function(pos, neg) {\n",
    "    total <- pos + neg\n",
    "    ifelse( pos == 0 | neg == 0,\n",
    "           0,\n",
    "           -2*(pos*log(pos/total) + neg*log(neg/total)))\n",
    "}"
   ]
  },
  {
   "cell_type": "markdown",
   "metadata": {},
   "source": [
    "### Example 1 - Computing $G^2$ for a single node\n",
    "\n",
    "<img src=\"./img/compute_G_sqr.png\"/>"
   ]
  },
  {
   "cell_type": "code",
   "execution_count": 47,
   "metadata": {},
   "outputs": [
    {
     "data": {
      "text/html": [
       "13.4602333401851"
      ],
      "text/latex": [
       "13.4602333401851"
      ],
      "text/markdown": [
       "13.4602333401851"
      ],
      "text/plain": [
       "[1] 13.46023"
      ]
     },
     "metadata": {},
     "output_type": "display_data"
    }
   ],
   "source": [
    "g2(4, 6)"
   ]
  },
  {
   "cell_type": "markdown",
   "metadata": {},
   "source": [
    "## Example 2 - Verifying JMP's calculations\n",
    "\n",
    "<img src=\"./img/JMP_G_sqr_node.png\">"
   ]
  },
  {
   "cell_type": "code",
   "execution_count": 49,
   "metadata": {},
   "outputs": [
    {
     "data": {
      "text/html": [
       "873.056084542667"
      ],
      "text/latex": [
       "873.056084542667"
      ],
      "text/markdown": [
       "873.056084542667"
      ],
      "text/plain": [
       "[1] 873.0561"
      ]
     },
     "metadata": {},
     "output_type": "display_data"
    }
   ],
   "source": [
    "g2(981, 147)"
   ]
  },
  {
   "cell_type": "markdown",
   "metadata": {},
   "source": [
    "## Example 3 - Computing the $G^2_{partition}$ and $G^2_{candidate}$\n",
    "\n",
    "<img src=\"./img/JMP_split.png\">"
   ]
  },
  {
   "cell_type": "code",
   "execution_count": 54,
   "metadata": {},
   "outputs": [
    {
     "data": {
      "text/html": [
       "867.417103398969"
      ],
      "text/latex": [
       "867.417103398969"
      ],
      "text/markdown": [
       "867.417103398969"
      ],
      "text/plain": [
       "[1] 867.4171"
      ]
     },
     "metadata": {},
     "output_type": "display_data"
    }
   ],
   "source": [
    "lhs = g2(961, 147)\n",
    "lhs"
   ]
  },
  {
   "cell_type": "code",
   "execution_count": 55,
   "metadata": {},
   "outputs": [
    {
     "data": {
      "text/html": [
       "25.0201211769094"
      ],
      "text/latex": [
       "25.0201211769094"
      ],
      "text/markdown": [
       "25.0201211769094"
      ],
      "text/plain": [
       "[1] 25.02012"
      ]
     },
     "metadata": {},
     "output_type": "display_data"
    }
   ],
   "source": [
    "rhs = g2(20,5)\n",
    "rhs"
   ]
  },
  {
   "cell_type": "code",
   "execution_count": 56,
   "metadata": {},
   "outputs": [
    {
     "data": {
      "text/html": [
       "872.088999250475"
      ],
      "text/latex": [
       "872.088999250475"
      ],
      "text/markdown": [
       "872.088999250475"
      ],
      "text/plain": [
       "[1] 872.089"
      ]
     },
     "metadata": {},
     "output_type": "display_data"
    }
   ],
   "source": [
    "g_sqr_part = 847.068878073566 + 25.0201211769094\n",
    "g_sqr_part"
   ]
  },
  {
   "cell_type": "code",
   "execution_count": 41,
   "metadata": {},
   "outputs": [
    {
     "data": {
      "text/html": [
       "0.967085292191996"
      ],
      "text/latex": [
       "0.967085292191996"
      ],
      "text/markdown": [
       "0.967085292191996"
      ],
      "text/plain": [
       "[1] 0.9670853"
      ]
     },
     "metadata": {},
     "output_type": "display_data"
    }
   ],
   "source": [
    "g_sqr_cand = 873.056084542667 - 872.088999250475\n",
    "g_sqr_cand"
   ]
  }
 ],
 "metadata": {
  "kernelspec": {
   "display_name": "R",
   "language": "R",
   "name": "ir"
  },
  "language_info": {
   "codemirror_mode": "r",
   "file_extension": ".r",
   "mimetype": "text/x-r-source",
   "name": "R",
   "pygments_lexer": "r",
   "version": "3.6.0"
  }
 },
 "nbformat": 4,
 "nbformat_minor": 2
}
